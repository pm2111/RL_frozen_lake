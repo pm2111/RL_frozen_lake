{
 "cells": [
  {
   "cell_type": "code",
   "execution_count": 1,
   "id": "c6049516-8449-481c-bb4d-66cefa61f756",
   "metadata": {},
   "outputs": [],
   "source": [
    "#import necessary libraries\n",
    "import gym\n",
    "import numpy as np\n"
   ]
  },
  {
   "cell_type": "markdown",
   "id": "ac5380f9",
   "metadata": {},
   "source": [
    "Choose the environment that the agent will explore and train on. \n",
    "In our case, we choose a 4x4 grid of icy lake with holes where the agent can fall into.\n",
    "Success in our case is defined as the successful crossing of the icy lake without falling into holes.\n",
    "![convert notebook to web app](https://www.gymlibrary.dev/_images/frozen_lake.gif)\n",
    "\n"
   ]
  },
  {
   "cell_type": "code",
   "execution_count": 2,
   "id": "266befb5-6e37-41f6-8ffe-ef7563e37a5a",
   "metadata": {},
   "outputs": [],
   "source": [
    "side = 4\n",
    "env = gym.make('FrozenLake-v1', desc=None, map_name=\"4x4\", is_slippery=False)"
   ]
  },
  {
   "cell_type": "markdown",
   "id": "ccae2e90",
   "metadata": {},
   "source": [
    "Below we define the functions used in the learning process. The idea is to propagate the information from the exploring agent throughout the state-value and action value functions. The implementation follows the notions from the Sutton and Barto RL learning textbook. In fewer than 10 iterations, the algorithm learns to navigate around the maze."
   ]
  },
  {
   "cell_type": "code",
   "execution_count": 3,
   "id": "2619d6a5-6bc9-4e32-b961-b0e1d7234ef8",
   "metadata": {},
   "outputs": [],
   "source": [
    "def get_possible_states(current_state,horizontal_grid_size,vertical_grid_size):\n",
    "    y_pos = np.mod(current_state,vertical_grid_size)\n",
    "    x_pos = int(current_state/horizontal_grid_size)\n",
    "    y_positions = np.array([y_pos+1, y_pos, y_pos-1,y_pos])\n",
    "    x_positions = np.array([x_pos,x_pos-1,x_pos,x_pos+1])\n",
    "    do_not_keep = (x_positions <0)| (x_positions>horizontal_grid_size-1)| (y_positions < 0 ) | (y_positions > vertical_grid_size-1)\n",
    "\n",
    "    \n",
    "    keep_y = np.where((x_positions <0)|(x_positions>horizontal_grid_size-1), x_positions, x_positions[x_pos])+1 ==1\n",
    "\n",
    "    x_positions = x_positions[do_not_keep==False]\n",
    "    y_positions = y_positions[do_not_keep==False]\n",
    "    \n",
    "    state_indices = x_positions*vertical_grid_size + np.mod(y_positions,horizontal_grid_size)\n",
    "    return state_indices"
   ]
  },
  {
   "cell_type": "code",
   "execution_count": 3,
   "id": "3a7a822e-999a-477e-bfdd-31c939654689",
   "metadata": {},
   "outputs": [],
   "source": [
    "def run_policy_iteration(delta_thresh, value_thresh):\n",
    "\n",
    "    env = init_env()\n",
    "    policy = init_policy()\n",
    "    state_values = calculate_state_values(policy, env, value_thresh)\n",
    "    delta = delta_thresh\n",
    "    \n",
    "    while delta >= delta_thresh:\n",
    "        policy = update_policy(policy, state_values)\n",
    "        new_state_values = calculate_state_values(policy, env, value_thresh)\n",
    "        delta = state_values - new_state_values\n",
    "        state_values = new_state_values\n",
    "    return policy\n",
    "    \n",
    "def init_state_values(n):\n",
    "    \"\"\"\n",
    "    Initializes values to zeros for all states\n",
    "    where n is the number of states\n",
    "    \"\"\"\n",
    "    return np.zeros(n)\n",
    "\n",
    "def calculate_state_values(env, delta_thresh=0.001, gamma=0.9):\n",
    "    \n",
    "    env.reset()\n",
    "    env.unwrapped.s = 0 # begin at the upper left corner\n",
    "    state_values = init_state_values(env.observation_space.n)\n",
    "    deltas = np.ones(env.observation_space.n)*1000 # compute deltas for each state\n",
    "    \n",
    "    i = 0\n",
    "    \n",
    "    \n",
    "    while deltas.max() >= delta_thresh:\n",
    "        for state in range(env.observation_space.n): # iterate sequentially over state space\n",
    "            env.reset()\n",
    "            env.unwrapped.s = state\n",
    "            action_value_estimate = {} # action value for current state stored as action:value pairs\n",
    "            for action in range(env.action_space.n):\n",
    "                \n",
    "                new_state, reward, terminated, _ = env.step(action)\n",
    "                \n",
    "                env.unwrapped.s = state # move the agent back to the state being computed\n",
    "\n",
    "                if terminated == 1:\n",
    "                    action_value_estimate[action] = (reward + (gamma*state_values[new_state]))\n",
    "                else:\n",
    "                    action_value_estimate[action] = (reward + (gamma*state_values[new_state]))\n",
    "\n",
    "            best_value = max(action_value_estimate.values())\n",
    "            \n",
    "            deltas[state] = abs(state_values[state] - best_value)\n",
    "            state_values[state] = best_value\n",
    "\n",
    "            \n",
    "        i += 1\n",
    "            \n",
    "    return state_values\n",
    "\n",
    "def calculate_policy(env, delta_thresh=0.001, gamma=0.9):\n",
    "    \n",
    "    env.reset()\n",
    "    env.unwrapped.s = 0 # begin at the upper left corner\n",
    "    state_values = init_state_values(env.observation_space.n)\n",
    "    deltas = np.ones(env.observation_space.n)*1000 # compute deltas for each state\n",
    "    action_values = {}\n",
    "    i = 0\n",
    "    \n",
    "    \n",
    "    while deltas.max() >= delta_thresh:\n",
    "        for state in range(env.observation_space.n): # iterate sequentially over state space\n",
    "            env.reset()\n",
    "            env.unwrapped.s = state\n",
    "            action_value_estimate = {} # action value for current state stored as action:value pairs\n",
    "            for action in range(env.action_space.n):\n",
    "                \n",
    "                new_state, reward, terminated, _ = env.step(action)\n",
    "                \n",
    "                env.unwrapped.s = state # move the agent back to the state being computed\n",
    "\n",
    "                action_value_estimate[action] = (reward + (gamma*state_values[new_state]))\n",
    "                \n",
    "            action_values[state] = action_value_estimate #store action values\n",
    "            best_value = max(action_value_estimate.values())\n",
    "            \n",
    "            deltas[state] = abs(state_values[state] - best_value)\n",
    "            state_values[state] = best_value\n",
    "\n",
    "            \n",
    "        i += 1\n",
    "            \n",
    "    return action_values"
   ]
  },
  {
   "cell_type": "markdown",
   "id": "178a50e5",
   "metadata": {},
   "source": [
    "Finally, we run the algorithm to compute the value of each state and the associated action values.\n",
    "It converges quickly and the results are stored in dictoionaries below. The heatmap below shows that its very advantageous to be in state (2,3) which is the pre-terminal state of the grid and not very advantageous to be in the ice holes, marked by black colour. The state value does not update upon termination, hence the state value of the terminal goal state (3,3) remains low."
   ]
  },
  {
   "cell_type": "code",
   "execution_count": 18,
   "id": "b4bbc7f4-328d-4114-b67a-7be4e56e1d19",
   "metadata": {
    "tags": []
   },
   "outputs": [],
   "source": [
    "state_values = calculate_state_values(env)\n",
    "action_values = calculate_policy(env, delta_thresh=0.1, gamma=0.9)"
   ]
  },
  {
   "cell_type": "code",
   "execution_count": 21,
   "id": "2f24abbe-305d-4e33-9cc0-b5d89eb3b3a5",
   "metadata": {
    "scrolled": true
   },
   "outputs": [
    {
     "data": {
      "image/png": "[encoded data removed]",
      "text/plain": [
       "<Figure size 432x288 with 2 Axes>"
      ]
     },
     "metadata": {
      "needs_background": "light"
     },
     "output_type": "display_data"
    }
   ],
   "source": [
    "import seaborn as sb\n",
    "\n",
    "sb.heatmap(state_values.reshape((4,4))).set(title= \"State values for the grid\")\n",
    "\n"
   ]
  }
 ],
 "metadata": {
  "kernelspec": {
   "display_name": "Python 3 (ipykernel)",
   "language": "python",
   "name": "python3"
  },
  "language_info": {
   "codemirror_mode": {
    "name": "ipython",
    "version": 3
   },
   "file_extension": ".py",
   "mimetype": "text/x-python",
   "name": "python",
   "nbconvert_exporter": "python",
   "pygments_lexer": "ipython3",
   "version": "3.10.4"
  }
 },
 "nbformat": 4,
 "nbformat_minor": 5
}
